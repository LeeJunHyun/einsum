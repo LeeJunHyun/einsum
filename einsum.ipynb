{
 "cells": [
  {
   "cell_type": "markdown",
   "metadata": {},
   "source": [
    "practice for https://ita9naiwa.github.io/numeric%20calculation/2018/11/10/Einsum.html"
   ]
  },
  {
   "cell_type": "markdown",
   "metadata": {},
   "source": [
    "## Transpose"
   ]
  },
  {
   "cell_type": "code",
   "execution_count": 1,
   "metadata": {},
   "outputs": [
    {
     "name": "stdout",
     "output_type": "stream",
     "text": [
      "[[1 4]\n",
      " [2 5]\n",
      " [3 6]]\n"
     ]
    }
   ],
   "source": [
    "import numpy as np\n",
    "\n",
    "A = np.array([[1,2,3], [4,5,6]])\n",
    "R = np.einsum(\"ij->ji\", A)\n",
    "print(R)"
   ]
  },
  {
   "cell_type": "markdown",
   "metadata": {},
   "source": [
    "## Diagonal, Trace"
   ]
  },
  {
   "cell_type": "code",
   "execution_count": 2,
   "metadata": {},
   "outputs": [
    {
     "name": "stdout",
     "output_type": "stream",
     "text": [
      "[1. 1. 1. 1. 1. 1. 1. 1. 1. 1.]\n",
      "10.0\n"
     ]
    }
   ],
   "source": [
    "import numpy as np\n",
    "\n",
    "A = np.eye(10)\n",
    "diag = np.einsum('ii->i', A)\n",
    "trace =np.einsum('ii->', A)\n",
    "print(diag)\n",
    "print(trace)"
   ]
  },
  {
   "cell_type": "markdown",
   "metadata": {},
   "source": [
    "## Matrix sum to scalar"
   ]
  },
  {
   "cell_type": "code",
   "execution_count": 3,
   "metadata": {},
   "outputs": [
    {
     "name": "stdout",
     "output_type": "stream",
     "text": [
      "21\n"
     ]
    }
   ],
   "source": [
    "import numpy as np\n",
    "\n",
    "A = np.array([[1,2,3], [4,5,6]])\n",
    "R = np.einsum(\"ij->\", A)\n",
    "print(R)"
   ]
  },
  {
   "cell_type": "markdown",
   "metadata": {},
   "source": [
    "## matrix column or row sum (to vector)"
   ]
  },
  {
   "cell_type": "code",
   "execution_count": 5,
   "metadata": {},
   "outputs": [
    {
     "name": "stdout",
     "output_type": "stream",
     "text": [
      "[[1 2 3]\n",
      " [4 5 6]]\n",
      "[ 6 15]\n",
      "[5 7 9]\n"
     ]
    }
   ],
   "source": [
    "import numpy as np\n",
    "\n",
    "A = np.array([[1,2,3], [4,5,6]])\n",
    "print(A)\n",
    "row_sum = np.einsum(\"ij->i\", A)\n",
    "col_sum =np.einsum(\"ij->j\", A)\n",
    "print(row_sum)\n",
    "print(col_sum)"
   ]
  },
  {
   "cell_type": "markdown",
   "metadata": {},
   "source": [
    "## Dot Product, Outer product of two vectors"
   ]
  },
  {
   "cell_type": "code",
   "execution_count": 8,
   "metadata": {},
   "outputs": [
    {
     "name": "stdout",
     "output_type": "stream",
     "text": [
      "-10101\n",
      "[[    -1    -10   -100]\n",
      " [   -10   -100  -1000]\n",
      " [  -100  -1000 -10000]]\n"
     ]
    }
   ],
   "source": [
    "import numpy as np\n",
    "\n",
    "x = np.array([-1, -10, -100])\n",
    "y = np.array([1, 10, 100])\n",
    "dot = np.einsum('i,i->', x, y )\n",
    "outer = np.einsum('i,j->ij', x,y)\n",
    "print(dot)\n",
    "print(outer)"
   ]
  },
  {
   "cell_type": "markdown",
   "metadata": {},
   "source": [
    "## Hadamard(element-wise) product of vector or matrix"
   ]
  },
  {
   "cell_type": "code",
   "execution_count": 10,
   "metadata": {},
   "outputs": [
    {
     "name": "stdout",
     "output_type": "stream",
     "text": [
      "[    -1   -100 -10000]\n",
      "[[ 0  1  4]\n",
      " [ 9 16 25]]\n"
     ]
    }
   ],
   "source": [
    "import numpy as np\n",
    "\n",
    "x = np.array([-1, -10, -100])\n",
    "y = np.array([1, 10, 100])\n",
    "elemwise_vec = np.einsum('i,i->i', x, y)\n",
    "print(elemwise_vec)\n",
    "A = np.arange(6).reshape((2, 3))\n",
    "B = np.arange(6).reshape((2, 3))\n",
    "elemwise_mat = np.einsum('ij,ij->ij', A, B)\n",
    "print(elemwise_mat)"
   ]
  },
  {
   "cell_type": "markdown",
   "metadata": {},
   "source": [
    "## Matrix-Vector multiplication"
   ]
  },
  {
   "cell_type": "code",
   "execution_count": 11,
   "metadata": {},
   "outputs": [
    {
     "name": "stdout",
     "output_type": "stream",
     "text": [
      "[-321 -654]\n"
     ]
    }
   ],
   "source": [
    "import numpy as np\n",
    "\n",
    "A = np.array([[1,2,3], [4,5,6]])\n",
    "x = np.array([-1, -10, -100])\n",
    "b = np.einsum('ij,j->i', A, x)\n",
    "print(b)"
   ]
  },
  {
   "cell_type": "markdown",
   "metadata": {},
   "source": [
    "## Matrix-Matrix Multiplication and Batched Matrix multiplication"
   ]
  },
  {
   "cell_type": "code",
   "execution_count": 14,
   "metadata": {},
   "outputs": [
    {
     "name": "stdout",
     "output_type": "stream",
     "text": [
      "[[14 32]\n",
      " [32 77]]\n"
     ]
    }
   ],
   "source": [
    "import numpy as np\n",
    "\n",
    "## Matrix-Matrix Multiplication\n",
    "A = np.array([[1,2,3], [4,5,6]])\n",
    "B = A.transpose()\n",
    "R = np.einsum('ik,kj->ij', A, B)\n",
    "print(R)"
   ]
  },
  {
   "cell_type": "code",
   "execution_count": 17,
   "metadata": {
    "scrolled": true
   },
   "outputs": [
    {
     "name": "stdout",
     "output_type": "stream",
     "text": [
      "(3, 10, 8)\n"
     ]
    }
   ],
   "source": [
    "## Batched Matrix Multiplication\n",
    "A = np.random.random(size=(3,10,4))\n",
    "B = np.random.random(size=(3,4, 8))\n",
    "R = np.einsum('bik,bkj->bij',A, B)\n",
    "print(R.shape)"
   ]
  },
  {
   "cell_type": "markdown",
   "metadata": {},
   "source": [
    "## Quadritc Form, or Matrix norm, or Distance with respect to Matrix(Mahalanobis distance)"
   ]
  },
  {
   "cell_type": "code",
   "execution_count": 19,
   "metadata": {},
   "outputs": [
    {
     "name": "stdout",
     "output_type": "stream",
     "text": [
      "-18.328254622191892\n"
     ]
    }
   ],
   "source": [
    "import numpy as np\n",
    "\n",
    "x = np.array([1,2,3])\n",
    "y = np.array([-1,-2,-3])\n",
    "A = np.random.random(size=(3, 3))\n",
    "\n",
    "r = np.einsum('i,ij,j->', x, A, y)\n",
    "print(r)"
   ]
  },
  {
   "cell_type": "markdown",
   "metadata": {},
   "source": [
    "## Examples 1: Linear Regression with Einsum"
   ]
  },
  {
   "cell_type": "code",
   "execution_count": 20,
   "metadata": {},
   "outputs": [],
   "source": [
    "import math\n",
    "import numpy as np\n",
    "\n",
    "import torch\n",
    "import torch.nn as nn\n",
    "import torch.optim as optim\n",
    "import torch.autograd as autograd\n",
    "import torch.nn.functional as F\n",
    "from torch.autograd import Variable\n",
    "from torch.utils.data import Dataset, DataLoader"
   ]
  },
  {
   "cell_type": "markdown",
   "metadata": {},
   "source": [
    "#### Examples 1: Linear Regression with Einsum\n"
   ]
  },
  {
   "cell_type": "code",
   "execution_count": 21,
   "metadata": {},
   "outputs": [],
   "source": [
    "class LinearModule(nn.Module):\n",
    "    def __init__(self, idim, odim):\n",
    "        super(LinearModule, self).__init__()\n",
    "        self.W = nn.Parameter(torch.Tensor(idim, odim))\n",
    "        self.W.data.uniform_(-(1./ math.sqrt(idim+odim)), 1. / math.sqrt(idim+odim))\n",
    "        self.b = nn.Parameter(torch.Tensor(np.random.normal(scale=0.001, size=(odim, ))))\n",
    "\n",
    "    def forward(self, x):\n",
    "        \"\"\"\n",
    "        Args:\n",
    "            x: [batch_size x dim]\n",
    "        \"\"\"\n",
    "        p = torch.einsum(\"bt,to->bo\", [x, self.W])\n",
    "        p += self.b\n",
    "        q = p.squeeze(1)\n",
    "        return p, q\n",
    "\n",
    "    def loss(self, x, y):\n",
    "        _, pred_y = self.forward(x)\n",
    "        diff = (pred_y - y) / y.size(0)\n",
    "        return torch.einsum(\"x,x->\", [diff, diff])"
   ]
  },
  {
   "cell_type": "markdown",
   "metadata": {},
   "source": [
    "#### Examples 2: Pointer Attention mechanism With Einsum"
   ]
  },
  {
   "cell_type": "code",
   "execution_count": 22,
   "metadata": {},
   "outputs": [],
   "source": [
    "class ptr_att(nn.Module):\n",
    "    def __init__(self, hidden_size, name='PointerAttention', use_cuda=False):\n",
    "        super(ptr_att, self).__init__()\n",
    "        self.W_enc = nn.Parameter(torch.FloatTensor(hidden_size, hidden_size))\n",
    "        self.W_ref = nn.Parameter(torch.FloatTensor(hidden_size, hidden_size))\n",
    "        self.V = nn.Parameter(torch.FloatTensor(hidden_size))\n",
    "\n",
    "        self.V.data.uniform_(-(1. / math.sqrt(hidden_size)) , 1. / math.sqrt(hidden_size))\n",
    "        self.W_enc.data.uniform_(-(1. / math.sqrt(hidden_size)) , 1. / math.sqrt(hidden_size))\n",
    "        self.W_ref.data.uniform_(-(1. / math.sqrt(hidden_size)) , 1. / math.sqrt(hidden_size))\n",
    "\n",
    "    def forward(self, enc, ref):\n",
    "        batch_size = enc.size(0)\n",
    "        seq_len = enc.size(1)\n",
    "        \"\"\"\n",
    "        Args:\n",
    "            enc: [batch_size x seq_len x hidden_size] (actually, seq_len is different by each)\n",
    "            ref: [batch_size x hidden_size]\n",
    "        \"\"\"\n",
    "        Wenc = torch.einsum(\"ak,bjk->bja\", [self.W_enc, enc])\n",
    "        Wref = torch.einsum(\"ak,bk->ba\", [self.W_ref, ref]).unsqueeze(1).repeat(1,seq_len,1)\n",
    "        # [batch_size x seq_len x hidden_size] reference vector multiplied by w_enc\n",
    "        W = torch.einsum(\"k,ijk->ij\", [self.V, F.tanh(Wenc + Wref)])\n",
    "        # [batch_size x seq_len],\n",
    "        #return W\n",
    "        return W"
   ]
  },
  {
   "cell_type": "markdown",
   "metadata": {},
   "source": [
    "#### Example 3: Attention Mechanism brought from here\n",
    "https://rockt.github.io/2018/04/30/einsum"
   ]
  },
  {
   "cell_type": "code",
   "execution_count": 23,
   "metadata": {},
   "outputs": [
    {
     "ename": "NameError",
     "evalue": "name 'random_tensors' is not defined",
     "output_type": "error",
     "traceback": [
      "\u001b[0;31m---------------------------------------------------------------------------\u001b[0m",
      "\u001b[0;31mNameError\u001b[0m                                 Traceback (most recent call last)",
      "\u001b[0;32m<ipython-input-23-424cca0918d7>\u001b[0m in \u001b[0;36m<module>\u001b[0;34m()\u001b[0m\n\u001b[1;32m      1\u001b[0m \u001b[0;31m# Parameters\u001b[0m\u001b[0;34m\u001b[0m\u001b[0;34m\u001b[0m\u001b[0m\n\u001b[1;32m      2\u001b[0m \u001b[0;31m# -- [hidden_dimension]\u001b[0m\u001b[0;34m\u001b[0m\u001b[0;34m\u001b[0m\u001b[0m\n\u001b[0;32m----> 3\u001b[0;31m \u001b[0mbM\u001b[0m\u001b[0;34m,\u001b[0m \u001b[0mbr\u001b[0m\u001b[0;34m,\u001b[0m \u001b[0mw\u001b[0m \u001b[0;34m=\u001b[0m \u001b[0mrandom_tensors\u001b[0m\u001b[0;34m(\u001b[0m\u001b[0;34m[\u001b[0m\u001b[0;36m7\u001b[0m\u001b[0;34m]\u001b[0m\u001b[0;34m,\u001b[0m \u001b[0mnum\u001b[0m\u001b[0;34m=\u001b[0m\u001b[0;36m3\u001b[0m\u001b[0;34m,\u001b[0m \u001b[0mrequires_grad\u001b[0m\u001b[0;34m=\u001b[0m\u001b[0;32mTrue\u001b[0m\u001b[0;34m)\u001b[0m\u001b[0;34m\u001b[0m\u001b[0m\n\u001b[0m\u001b[1;32m      4\u001b[0m \u001b[0;31m# -- [hidden_dimension x hidden_dimension]\u001b[0m\u001b[0;34m\u001b[0m\u001b[0;34m\u001b[0m\u001b[0m\n\u001b[1;32m      5\u001b[0m \u001b[0mWY\u001b[0m\u001b[0;34m,\u001b[0m \u001b[0mWh\u001b[0m\u001b[0;34m,\u001b[0m \u001b[0mWr\u001b[0m\u001b[0;34m,\u001b[0m \u001b[0mWt\u001b[0m \u001b[0;34m=\u001b[0m \u001b[0mrandom_tensors\u001b[0m\u001b[0;34m(\u001b[0m\u001b[0;34m[\u001b[0m\u001b[0;36m7\u001b[0m\u001b[0;34m,\u001b[0m \u001b[0;36m7\u001b[0m\u001b[0;34m]\u001b[0m\u001b[0;34m,\u001b[0m \u001b[0mnum\u001b[0m\u001b[0;34m=\u001b[0m\u001b[0;36m4\u001b[0m\u001b[0;34m,\u001b[0m \u001b[0mrequires_grad\u001b[0m\u001b[0;34m=\u001b[0m\u001b[0;32mTrue\u001b[0m\u001b[0;34m)\u001b[0m\u001b[0;34m\u001b[0m\u001b[0m\n",
      "\u001b[0;31mNameError\u001b[0m: name 'random_tensors' is not defined"
     ]
    }
   ],
   "source": [
    "# Parameters\n",
    "# -- [hidden_dimension]\n",
    "bM, br, w = random_tensors([7], num=3, requires_grad=True)\n",
    "# -- [hidden_dimension x hidden_dimension]\n",
    "WY, Wh, Wr, Wt = random_tensors([7, 7], num=4, requires_grad=True)\n",
    "\n",
    "# Single application of attention mechanism\n",
    "def attention(Y, ht, rt1):\n",
    "  # -- [batch_size x hidden_dimension]\n",
    "  tmp = torch.einsum(\"ik,kl->il\", [ht, Wh]) + torch.einsum(\"ik,kl->il\", [rt1, Wr])\n",
    "  Mt = F.tanh(torch.einsum(\"ijk,kl->ijl\", [Y, WY]) + tmp.unsqueeze(1).expand_as(Y) + bM)\n",
    "  # -- [batch_size x sequence_length]\n",
    "  at = F.softmax(torch.einsum(\"ijk,k->ij\", [Mt, w]))\n",
    "  # -- [batch_size x hidden_dimension]\n",
    "  rt = torch.einsum(\"ijk,ij->ik\", [Y, at]) + F.tanh(torch.einsum(\"ij,jk->ik\", [rt1, Wt]) + br)\n",
    "  # -- [batch_size x hidden_dimension], [batch_size x sequence_dimension]\n",
    "  return rt, at\n",
    "\n",
    "# Sampled dummy inputs\n",
    "# -- [batch_size x sequence_length x hidden_dimension]\n",
    "Y = random_tensors([3, 5, 7])\n",
    "# -- [batch_size x hidden_dimension]\n",
    "ht, rt1 = random_tensors([3, 7], num=2)\n",
    "\n",
    "rt, at = attention(Y, ht, rt1)\n",
    "at  # -- print attention weights\n"
   ]
  },
  {
   "cell_type": "code",
   "execution_count": null,
   "metadata": {},
   "outputs": [],
   "source": []
  },
  {
   "cell_type": "code",
   "execution_count": null,
   "metadata": {},
   "outputs": [],
   "source": []
  },
  {
   "cell_type": "code",
   "execution_count": null,
   "metadata": {},
   "outputs": [],
   "source": []
  }
 ],
 "metadata": {
  "kernelspec": {
   "display_name": "Python 3",
   "language": "python",
   "name": "python3"
  },
  "language_info": {
   "codemirror_mode": {
    "name": "ipython",
    "version": 3
   },
   "file_extension": ".py",
   "mimetype": "text/x-python",
   "name": "python",
   "nbconvert_exporter": "python",
   "pygments_lexer": "ipython3",
   "version": "3.5.2"
  }
 },
 "nbformat": 4,
 "nbformat_minor": 2
}
